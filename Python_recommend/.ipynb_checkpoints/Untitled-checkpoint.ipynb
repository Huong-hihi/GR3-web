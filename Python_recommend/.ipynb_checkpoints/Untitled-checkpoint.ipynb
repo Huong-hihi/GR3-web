{
 "cells": [
  {
   "cell_type": "code",
   "execution_count": 26,
   "metadata": {},
   "outputs": [
    {
     "name": "stdout",
     "output_type": "stream",
     "text": [
      "Number of users: 943\n",
      "Number of traing rates: 90570\n",
      "Number of test rates: 9430\n"
     ]
    }
   ],
   "source": [
    "import pandas as pd \n",
    "import numpy as np\n",
    "from numpy import sqrt \n",
    "import array\n",
    "from pymysql import NULL\n",
    "import math\n",
    "\n",
    "#Reading user file:\n",
    "u_cols =  ['user_id', 'age', 'sex', 'occupation', 'zip_code']\n",
    "users = pd.read_csv('ml-100k/u.user', sep='|', names=u_cols, encoding='latin-1')\n",
    "# đọc file csv và trả về 1 dataframe. Mặc định hàm này sẽ phân biệt các trường của file csv theo dấu phẩy. \n",
    "# sep: thay đổi dấu ngăn cách giữa các cột thành |\n",
    "# encoding: chỉ định encoding của file đọc vào. Mặc định là utf-8. - > chuyển thành latin-1\n",
    "#name : danh sacshteen cột để sử dụng\n",
    "n_users = users.shape[0]\n",
    "print ('Number of users:', n_users)\n",
    "# users.head() #uncomment this to see some few examples\n",
    "\n",
    "#Reading ratings file:\n",
    "r_cols = ['user_id', 'movie_id', 'rating']\n",
    "\n",
    "ratings_base = pd.read_csv('ml-100k/ua.base', sep='\\t', names=r_cols)\n",
    "ratings_test = pd.read_csv('ml-100k/ua.test', sep='\\t', names=r_cols)\n",
    "\n",
    "rate_train = ratings_base.to_numpy() # chuyển dữ liệu thành mảng \n",
    "rate_test = ratings_test.to_numpy()\n",
    "\n",
    "print ('Number of traing rates:', rate_train.shape[0]) #in ra số lượng phần tử của mảng \n",
    "print ('Number of test rates:', rate_test.shape[0])\n",
    "\n",
    "#i_cols = ['song id', 'song name' ,'singer','url', 'musician', 'Viet Nam', 'nhac tre', 'tru tinh', 'Remix', 'rap', 'tien chien','nhac trinh', 'rock việt', 'Cách Mạng', 'ÂU MỸ', 'Pop', 'Rock', 'Châu Á', 'Nhạc hàn', ' Nhạc Hoa', 'Nhạc Nhật','Nhạc Thái','Khác','Thiếu nhi', 'Không lời'] \n",
    "i_cols = ['movie id', 'movie title' ,'release date','video release date', 'IMDb URL', 'unknown', 'Action', 'Adventure',\n",
    " 'Animation', 'Children\\'s', 'Comedy', 'Crime', 'Documentary', 'Drama', 'Fantasy',\n",
    " 'Film-Noir', 'Horror', 'Musical', 'Mystery', 'Romance', 'Sci-Fi', 'Thriller', 'War', 'Western','hihi']\n"
   ]
  },
  {
   "cell_type": "code",
   "execution_count": 27,
   "metadata": {},
   "outputs": [],
   "source": [
    "items = pd.read_csv('ml-100k/u.item', sep='|', names=i_cols)"
   ]
  },
  {
   "cell_type": "code",
   "execution_count": 28,
   "metadata": {},
   "outputs": [
    {
     "data": {
      "text/plain": [
       "Index(['song id', 'song name', 'singer', 'url', 'musician', 'Viet Nam',\n",
       "       'nhac tre', 'tru tinh', 'Remix', 'rap', 'tien chien', 'nhac trinh',\n",
       "       'rock việt', 'Cách Mạng', 'ÂU MỸ', 'Pop', 'Rock', 'Châu Á', 'Nhạc hàn',\n",
       "       ' Nhạc Hoa', 'Nhạc Nhật', 'Nhạc Thái', 'Khác', 'Thiếu nhi',\n",
       "       'Không lời'],\n",
       "      dtype='object')"
      ]
     },
     "execution_count": 28,
     "metadata": {},
     "output_type": "execute_result"
    }
   ],
   "source": [
    "items.columns"
   ]
  },
  {
   "cell_type": "code",
   "execution_count": 29,
   "metadata": {},
   "outputs": [
    {
     "name": "stdout",
     "output_type": "stream",
     "text": [
      "singer\n",
      "url\n",
      "musician\n",
      "Không lời\n"
     ]
    }
   ],
   "source": [
    "for col in items.columns:\n",
    "    if items[col].isnull().values.any():\n",
    "        print(col)"
   ]
  },
  {
   "cell_type": "code",
   "execution_count": 31,
   "metadata": {},
   "outputs": [
    {
     "ename": "SyntaxError",
     "evalue": "invalid syntax (<ipython-input-31-941aa6ecc40a>, line 1)",
     "output_type": "error",
     "traceback": [
      "\u001b[1;36m  File \u001b[1;32m\"<ipython-input-31-941aa6ecc40a>\"\u001b[1;36m, line \u001b[1;32m1\u001b[0m\n\u001b[1;33m    items[items[].isnull().values]\u001b[0m\n\u001b[1;37m                ^\u001b[0m\n\u001b[1;31mSyntaxError\u001b[0m\u001b[1;31m:\u001b[0m invalid syntax\n"
     ]
    }
   ],
   "source": [
    "items[items[].isnull().values]"
   ]
  },
  {
   "cell_type": "code",
   "execution_count": null,
   "metadata": {},
   "outputs": [],
   "source": [
    "\n"
   ]
  },
  {
   "cell_type": "code",
   "execution_count": null,
   "metadata": {},
   "outputs": [],
   "source": []
  }
 ],
 "metadata": {
  "kernelspec": {
   "display_name": "Python 3",
   "language": "python",
   "name": "python3"
  },
  "language_info": {
   "codemirror_mode": {
    "name": "ipython",
    "version": 3
   },
   "file_extension": ".py",
   "mimetype": "text/x-python",
   "name": "python",
   "nbconvert_exporter": "python",
   "pygments_lexer": "ipython3",
   "version": "3.7.2"
  }
 },
 "nbformat": 4,
 "nbformat_minor": 2
}
